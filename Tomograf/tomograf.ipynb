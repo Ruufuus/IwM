{
 "cells": [
  {
   "cell_type": "markdown",
   "metadata": {},
   "source": [
    "IMPORTS"
   ]
  },
  {
   "cell_type": "code",
   "execution_count": 1,
   "metadata": {},
   "outputs": [],
   "source": [
    "import numpy as np\n",
    "import matplotlib.pyplot as plt\n",
    "import cv2\n",
    "from ipywidgets import interact, interactive, fixed, interact_manual\n",
    "import ipywidgets as widgets"
   ]
  },
  {
   "cell_type": "markdown",
   "metadata": {},
   "source": [
    "Wszystko oprócz R to będą slidery, albo pola tekstowe [TODO]"
   ]
  },
  {
   "cell_type": "code",
   "execution_count": 8,
   "metadata": {},
   "outputs": [
    {
     "ename": "NameError",
     "evalue": "name 'cv2' is not defined",
     "output_type": "error",
     "traceback": [
      "\u001b[1;31m---------------------------------------------------------------------------\u001b[0m",
      "\u001b[1;31mNameError\u001b[0m                                 Traceback (most recent call last)",
      "\u001b[1;32m<ipython-input-8-a41379e0baa4>\u001b[0m in \u001b[0;36m<module>\u001b[1;34m\u001b[0m\n\u001b[0;32m      3\u001b[0m \u001b[0mslider_detectors\u001b[0m \u001b[1;33m=\u001b[0m \u001b[0mwidgets\u001b[0m\u001b[1;33m.\u001b[0m\u001b[0mIntSlider\u001b[0m\u001b[1;33m(\u001b[0m\u001b[0mmin\u001b[0m\u001b[1;33m=\u001b[0m\u001b[1;36m10\u001b[0m\u001b[1;33m,\u001b[0m\u001b[0mmax\u001b[0m\u001b[1;33m=\u001b[0m\u001b[1;36m400\u001b[0m\u001b[1;33m,\u001b[0m\u001b[0mstep\u001b[0m\u001b[1;33m=\u001b[0m\u001b[1;36m10\u001b[0m\u001b[1;33m,\u001b[0m\u001b[0mvalue\u001b[0m\u001b[1;33m=\u001b[0m\u001b[1;36m200\u001b[0m\u001b[1;33m)\u001b[0m\u001b[1;33m\u001b[0m\u001b[1;33m\u001b[0m\u001b[0m\n\u001b[0;32m      4\u001b[0m \u001b[0mslider_number_of_emiters\u001b[0m \u001b[1;33m=\u001b[0m \u001b[0mwidgets\u001b[0m\u001b[1;33m.\u001b[0m\u001b[0mIntSlider\u001b[0m\u001b[1;33m(\u001b[0m\u001b[0mmin\u001b[0m\u001b[1;33m=\u001b[0m\u001b[1;36m50\u001b[0m\u001b[1;33m,\u001b[0m\u001b[0mmax\u001b[0m\u001b[1;33m=\u001b[0m\u001b[1;36m360\u001b[0m\u001b[1;33m,\u001b[0m\u001b[0mstep\u001b[0m\u001b[1;33m=\u001b[0m\u001b[1;36m5\u001b[0m\u001b[1;33m,\u001b[0m\u001b[0mvalue\u001b[0m\u001b[1;33m=\u001b[0m\u001b[1;36m200\u001b[0m\u001b[1;33m)\u001b[0m\u001b[1;33m\u001b[0m\u001b[1;33m\u001b[0m\u001b[0m\n\u001b[1;32m----> 5\u001b[1;33m \u001b[0mim\u001b[0m \u001b[1;33m=\u001b[0m \u001b[0mcv2\u001b[0m\u001b[1;33m.\u001b[0m\u001b[0mimread\u001b[0m\u001b[1;33m(\u001b[0m\u001b[1;34m\"Kropka.jpg\"\u001b[0m\u001b[1;33m,\u001b[0m \u001b[1;36m0\u001b[0m\u001b[1;33m)\u001b[0m\u001b[1;33m\u001b[0m\u001b[1;33m\u001b[0m\u001b[0m\n\u001b[0m\u001b[0;32m      6\u001b[0m \u001b[1;33m\u001b[0m\u001b[0m\n\u001b[0;32m      7\u001b[0m \u001b[0mR\u001b[0m \u001b[1;33m=\u001b[0m \u001b[0mmin\u001b[0m\u001b[1;33m(\u001b[0m\u001b[0mim\u001b[0m\u001b[1;33m.\u001b[0m\u001b[0mshape\u001b[0m\u001b[1;33m)\u001b[0m\u001b[1;33m/\u001b[0m\u001b[1;36m2\u001b[0m\u001b[1;33m\u001b[0m\u001b[1;33m\u001b[0m\u001b[0m\n",
      "\u001b[1;31mNameError\u001b[0m: name 'cv2' is not defined"
     ]
    }
   ],
   "source": [
    "slider_l = widgets.IntSlider(min=90,max=270,step=10,value=180)\n",
    "slider_alpha = widgets.FloatSlider(min=0,max=1,step=0.01,value=0.5)\n",
    "slider_detectors = widgets.IntSlider(min=10,max=400,step=10,value=200)\n",
    "slider_number_of_emiters = widgets.IntSlider(min=50,max=360,step=5,value=200)\n",
    "im = cv2.imread(\"Kropka.jpg\", 0)\n",
    "\n",
    "R = min(im.shape)/2\n",
    "print(R)"
   ]
  },
  {
   "cell_type": "code",
   "execution_count": 10,
   "metadata": {},
   "outputs": [
    {
     "data": {
      "application/vnd.jupyter.widget-view+json": {
       "model_id": "ace68539f550474f90a154ec5996ecab",
       "version_major": 2,
       "version_minor": 0
      },
      "text/plain": [
       "IntSlider(value=180, max=270, min=90, step=10)"
      ]
     },
     "metadata": {},
     "output_type": "display_data"
    },
    {
     "data": {
      "text/plain": [
       "'Ustaw wartość L'"
      ]
     },
     "metadata": {},
     "output_type": "display_data"
    },
    {
     "data": {
      "application/vnd.jupyter.widget-view+json": {
       "model_id": "f2d28a72b68041dea864c917fd26f16e",
       "version_major": 2,
       "version_minor": 0
      },
      "text/plain": [
       "FloatSlider(value=0.5, max=1.0, step=0.01)"
      ]
     },
     "metadata": {},
     "output_type": "display_data"
    },
    {
     "data": {
      "text/plain": [
       "'Ustaw wartość alpha'"
      ]
     },
     "metadata": {},
     "output_type": "display_data"
    },
    {
     "data": {
      "application/vnd.jupyter.widget-view+json": {
       "model_id": "1ee7340946334a4a92d24141062c2103",
       "version_major": 2,
       "version_minor": 0
      },
      "text/plain": [
       "IntSlider(value=200, max=400, min=10, step=10)"
      ]
     },
     "metadata": {},
     "output_type": "display_data"
    },
    {
     "data": {
      "text/plain": [
       "'Ustaw ilość detektorów'"
      ]
     },
     "metadata": {},
     "output_type": "display_data"
    },
    {
     "data": {
      "application/vnd.jupyter.widget-view+json": {
       "model_id": "01ee4a005efc4770844c2092b21d0ea3",
       "version_major": 2,
       "version_minor": 0
      },
      "text/plain": [
       "IntSlider(value=200, max=360, min=50, step=5)"
      ]
     },
     "metadata": {},
     "output_type": "display_data"
    },
    {
     "data": {
      "text/plain": [
       "'Ustaw ilość emiterów'"
      ]
     },
     "metadata": {},
     "output_type": "display_data"
    }
   ],
   "source": [
    "display(slider_l,\"Ustaw wartość L\")\n",
    "display(slider_alpha,\"Ustaw wartość alpha\")\n",
    "display(slider_detectors,\"Ustaw ilość detektorów\")\n",
    "display(slider_number_of_emiters,\"Ustaw ilość emiterów\")"
   ]
  },
  {
   "cell_type": "markdown",
   "metadata": {},
   "source": [
    "algorytm Bresenhama [DO OPTYMALIZACJI (TFU)]"
   ]
  },
  {
   "cell_type": "code",
   "execution_count": null,
   "metadata": {},
   "outputs": [],
   "source": [
    "def bresenhamLine(x1, y1, x2, y2):\n",
    "    d,dx,dy,ai,bi,xi,yi = (0,)*7\n",
    "    x,y = x1,y1\n",
    "   \n",
    "    coords = [(x1,y1)]\n",
    "   \n",
    "    xdif = x2 - x1\n",
    "    ydif = y2 - y1\n",
    "    ddif = dx - dy\n",
    "   \n",
    "    if(xdif>0):\n",
    "        xi = 1\n",
    "    else:\n",
    "        xi = -1\n",
    "        xdif = -xdif\n",
    "       \n",
    "    if(ydif>0):\n",
    "        yi = 1\n",
    "    else:    \n",
    "        yi = -1\n",
    "        ydif = -ydif\n",
    "   \n",
    "    if(ddif > 0):\n",
    "        ai = -ddif *2\n",
    "        bi = dy*2\n",
    "        d = -dx+bi\n",
    "        while(x != x2):\n",
    "            if(d >= 0):\n",
    "                x += xi\n",
    "                y += yi\n",
    "                d += ai\n",
    "            else:\n",
    "                d += bi\n",
    "                x += xi\n",
    "            coords.append((x,y))\n",
    "    else\n",
    "        ai = ddif*2\n",
    "        bi = dx*2\n",
    "        d = -dy+bi\n",
    "        while (y != y2):\n",
    "            if (d >=0):\n",
    "                x += xi\n",
    "                y += yi\n",
    "                d += ai\n",
    "            else:\n",
    "                d += bi\n",
    "                y += yi\n",
    "            coords.append((x, y))\n",
    "    coords.append((x2,y2))\n",
    " \n",
    "       \n",
    "    return coords"
   ]
  },
  {
   "cell_type": "markdown",
   "metadata": {},
   "source": [
    "Te dwie komórki niżej są wprost ze wzoru http://www.cs.put.poznan.pl/swilk/pmwiki/uploads/Dydaktyka/tomograf-wzory.pdf\n",
    "\n",
    "\\+ jest wyśrodkowane czyli +R na x i y, bo OpenCV tak bierze coordy:\n",
    "\n",
    "0,0 - - - ->X<br>\n",
    "|<br>\n",
    "|<br>\n",
    "|<br>\n",
    "v<br>\n",
    "Y<br>"
   ]
  },
  {
   "cell_type": "code",
   "execution_count": null,
   "metadata": {},
   "outputs": [],
   "source": [
    "def getEmiterPosition(r, alpha):\n",
    "    x = r * np.cos( np.radians(alpha)) + R\n",
    "    y = r * np.sin( np.radians(alpha)) + R\n",
    "    return (int(x),int(y))"
   ]
  },
  {
   "cell_type": "code",
   "execution_count": null,
   "metadata": {},
   "outputs": [],
   "source": [
    "def getSensorPosition(r, alpha, fi, i, numberOfSensors):\n",
    "    x = r * np.cos (np.radians(alpha) + np.pi - np.radians(fi)/2 + (i * ( np.radians(fi) / (numberOfSensors-1) )) ) + R\n",
    "    y = r * np.sin (np.radians(alpha) + np.pi - np.radians(fi)/2 + (i * ( np.radians(fi) / (numberOfSensors-1) )) ) + R\n",
    "    return (int(x),int(y))\n",
    "\n",
    "def getAllSensors(r, alpha, fi, numberOfSensors):\n",
    "    sensors = []\n",
    "    for i in range(numberOfSensors):\n",
    "        sensors.append(getSensorPosition(r, alpha, fi, i, numberOfSensors))\n",
    "    return sensors"
   ]
  },
  {
   "cell_type": "code",
   "execution_count": null,
   "metadata": {},
   "outputs": [],
   "source": [
    "\"\"\"\n",
    "Sinogram X -> sensor\n",
    "         Y -> emiter\n",
    "         \n",
    "         To jest zrobione addytywnie, ale nie wiem czy to dobrze działa, trzeba sprawdzić\n",
    "\"\"\"\n",
    "\n",
    "def sinogram(r, fi, image):\n",
    "    \n",
    "    sinogram = np.zeros([slider_detectors.value,slider_number_of_emiters.value])\n",
    "    \n",
    "    \n",
    "    for i in range(slider_number_of_emiters.value):\n",
    "        emiter = getEmiterPosition(r, slider_alpha.value * i)\n",
    "        sensors = getAllSensors(r, slider_alpha.value * i, slider_l.value, slider_detectors.value)\n",
    "        for j,sensor in enumerate(sensors):\n",
    "            misc = 0\n",
    "            coords = bresenhamLine(emiter[0],emiter[1],sensor[0],sensor[1])\n",
    "            for coord in  coords:\n",
    "                misc += image[coord[0]-1][coord[1]-1]\n",
    "            misc = misc/len(coords)\n",
    "            sinogram[j][i] += misc\n",
    "    sinogram = (sinogram - np.amin(sinogram)) / (np.amax(sinogram) - np.amin(sinogram))\n",
    "    plt.imshow(sinogram, cmap='gray')\n",
    "    return sinogram\n",
    "    "
   ]
  },
  {
   "cell_type": "code",
   "execution_count": null,
   "metadata": {},
   "outputs": [],
   "source": [
    "Sin = sinogram(R, slider_l.value, im)"
   ]
  },
  {
   "cell_type": "code",
   "execution_count": null,
   "metadata": {},
   "outputs": [],
   "source": [
    "plt.imshow(im, cmap='gray')"
   ]
  },
  {
   "cell_type": "code",
   "execution_count": null,
   "metadata": {},
   "outputs": [],
   "source": [
    "def reverseSinogram(r, fi, sinogram):\n",
    "    revSin = np.zeros([im.shape[0], im.shape[1]])\n",
    "    for i in range(slider_number_of_emiters.value):\n",
    "        emiter = getEmiterPosition(r, slider_alpha.value * i)\n",
    "        sensors = getAllSensors(r, slider_alpha.value * i, slider_l.value, slider_detectors.value)\n",
    "        for j,sensor in enumerate(sensors):\n",
    "            misc = 0\n",
    "            coords = bresenhamLine(emiter[0],emiter[1],sensor[0],sensor[1])\n",
    "            for coord in  coords:\n",
    "                revSin[coord[0]-1][coord[1]-1] += sinogram[j][i]\n",
    "    #revSin = (revSin - np.amin(revSin)) / (np.amax(revSin) - np.amin(revSin))\n",
    "    plt.imshow(revSin, cmap='gray')"
   ]
  },
  {
   "cell_type": "code",
   "execution_count": null,
   "metadata": {},
   "outputs": [],
   "source": [
    "reverseSinogram(R, slider_l.value, Sin)"
   ]
  }
 ],
 "metadata": {
  "kernelspec": {
   "display_name": "Python 3",
   "language": "python",
   "name": "python3"
  },
  "language_info": {
   "codemirror_mode": {
    "name": "ipython",
    "version": 3
   },
   "file_extension": ".py",
   "mimetype": "text/x-python",
   "name": "python",
   "nbconvert_exporter": "python",
   "pygments_lexer": "ipython3",
   "version": "3.7.3"
  }
 },
 "nbformat": 4,
 "nbformat_minor": 4
}
