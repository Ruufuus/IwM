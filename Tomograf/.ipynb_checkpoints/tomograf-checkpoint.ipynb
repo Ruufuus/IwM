{
 "cells": [
  {
   "cell_type": "markdown",
   "metadata": {},
   "source": [
    "IMPORTS"
   ]
  },
  {
   "cell_type": "code",
   "execution_count": 1,
   "metadata": {},
   "outputs": [],
   "source": [
    "import numpy as np\n",
    "import matplotlib.pyplot as plt\n",
    "import cv2"
   ]
  },
  {
   "cell_type": "markdown",
   "metadata": {},
   "source": [
    "Wszystko oprócz R to będą slidery, albo pola tekstowe [TODO]"
   ]
  },
  {
   "cell_type": "code",
   "execution_count": 2,
   "metadata": {},
   "outputs": [],
   "source": [
    "ALPHA = 0.5\n",
    "NUMBER_OF_EMITERS = 360\n",
    "DETECTORS = 360\n",
    "\n",
    "L = 100\n",
    "\n",
    "im = cv2.imread(\"Kropka.jpg\", 0)\n",
    "\n",
    "R = min(im.shape)"
   ]
  },
  {
   "cell_type": "markdown",
   "metadata": {},
   "source": [
    "algorytm Bresenhama [DO OPTYMALIZACJI (TFU)]"
   ]
  },
  {
   "cell_type": "code",
   "execution_count": 3,
   "metadata": {},
   "outputs": [],
   "source": [
    "def bresenhamLine(x1, y1, x2, y2):\n",
    "    d,dx,dy,ai,bi,xi,yi = (0,)*7\n",
    "    x,y = x1,y1\n",
    "    \n",
    "    coords = [(x1,y1)]\n",
    "    \n",
    "    if (x1 < x2):\n",
    "        xi =1\n",
    "        dx = x2 - x1\n",
    "    else:\n",
    "        xi = -1\n",
    "        dx = x1 - x2\n",
    "    \n",
    "    if (y1 < y2):\n",
    "        yi = 1\n",
    "        dy = y2 - y1\n",
    "    else:\n",
    "        yi = -1\n",
    "        dy = y1 - y2\n",
    "    \n",
    "    if (dx > dy):\n",
    "        ai = (dy - dx) * 2\n",
    "        bi = dy * 2\n",
    "        d = bi - dx\n",
    "        \n",
    "        while (x != x2):\n",
    "            if (d >= 0):\n",
    "                x += xi\n",
    "                y += yi\n",
    "                d += ai\n",
    "            else:\n",
    "                d += bi\n",
    "                x += xi\n",
    "            coords.append((x, y))\n",
    "    else:\n",
    "        ai = (dx - dy) * 2\n",
    "        bi = dx * 2\n",
    "        d = bi - dy\n",
    "        \n",
    "        while (y != y2):\n",
    "            if (d >=0):\n",
    "                x += xi\n",
    "                y += yi\n",
    "                d += ai\n",
    "            else:\n",
    "                d += bi\n",
    "                y += yi\n",
    "            coords.append((x, y))\n",
    "    coords.append((x2,y2))\n",
    "    return coords"
   ]
  },
  {
   "cell_type": "markdown",
   "metadata": {},
   "source": [
    "Te dwie komórki niżej są wprost ze wzoru http://www.cs.put.poznan.pl/swilk/pmwiki/uploads/Dydaktyka/tomograf-wzory.pdf\n",
    "\n",
    "\\+ jest wyśrodkowane czyli +R/2 na x i y, bo OpenCV tak bierze coordy:\n",
    "\n",
    "0,0 - - - ->X<br>\n",
    "|<br>\n",
    "|<br>\n",
    "|<br>\n",
    "v<br>\n",
    "Y<br>"
   ]
  },
  {
   "cell_type": "code",
   "execution_count": 4,
   "metadata": {},
   "outputs": [],
   "source": [
    "def getEmiterPosition(r, alpha):\n",
    "    x = r * np.cos( np.radians(alpha)) + R/2\n",
    "    y = r * np.sin( np.radians(alpha)) + R/2\n",
    "    return (int(x),int(y))"
   ]
  },
  {
   "cell_type": "code",
   "execution_count": 5,
   "metadata": {},
   "outputs": [],
   "source": [
    "def getSensorPosition(r, alpha, fi, i, numberOfSensors):\n",
    "    x = r * np.cos (np.radians(alpha) + np.pi - np.radians(fi)/2 + i * ( np.radians(fi) / (numberOfSensors-1) )) + R/2\n",
    "    y = r * np.sin (np.radians(alpha) + np.pi - np.radians(fi)/2 + i * ( np.radians(fi) / (numberOfSensors-1) )) + R/2\n",
    "    return (int(x),int(y))\n",
    "\n",
    "def getAllSensors(r, alpha, fi, numberOfSensors):\n",
    "    sensors = []\n",
    "    for i in range(numberOfSensors):\n",
    "        sensors.append(getSensorPosition(r, alpha, fi, i, numberOfSensors))\n",
    "    return sensors"
   ]
  },
  {
   "cell_type": "code",
   "execution_count": 6,
   "metadata": {},
   "outputs": [],
   "source": [
    "\"\"\"\n",
    "Sinogram X -> sensor\n",
    "         Y -> emiter\n",
    "         \n",
    "         To jest zrobione addytywnie, ale nie wiem czy to dobrze działa, trzeba sprawdzić\n",
    "\"\"\"\n",
    "\n",
    "def sinogram(r, fi, noe, image):\n",
    "    \n",
    "    sinogram = np.zeros([DETECTORS,NUMBER_OF_EMITERS])\n",
    "    \n",
    "    \n",
    "    for i in range(NUMBER_OF_EMITERS):\n",
    "        emiter = getEmiterPosition(r, ALPHA * i)\n",
    "        sensors = getAllSensors(r, ALPHA * i, L, DETECTORS)\n",
    "        for j,sensor in enumerate(sensors):\n",
    "            misc = 0\n",
    "            for coord in  bresenhamLine(emiter[0],emiter[1],sensor[0],sensor[1]):\n",
    "                misc += image[coord[0]-1][coord[1]-1]\n",
    "            sinogram[j][i] += misc\n",
    "    sinogram = sinogram / np.amax(sinogram)\n",
    "    plt.imshow(sinogram, cmap='gray')\n",
    "    "
   ]
  },
  {
   "cell_type": "code",
   "execution_count": 7,
   "metadata": {},
   "outputs": [
    {
     "data": {
      "image/png": "[encoded data removed]",
      "text/plain": [
       "<Figure size 432x288 with 1 Axes>"
      ]
     },
     "metadata": {
      "needs_background": "light"
     },
     "output_type": "display_data"
    }
   ],
   "source": [
    "sinogram(R/2, 180, 360, im)"
   ]
  }
 ],
 "metadata": {
  "kernelspec": {
   "display_name": "Python 3",
   "language": "python",
   "name": "python3"
  },
  "language_info": {
   "codemirror_mode": {
    "name": "ipython",
    "version": 3
   },
   "file_extension": ".py",
   "mimetype": "text/x-python",
   "name": "python",
   "nbconvert_exporter": "python",
   "pygments_lexer": "ipython3",
   "version": "3.7.4"
  }
 },
 "nbformat": 4,
 "nbformat_minor": 4
}
