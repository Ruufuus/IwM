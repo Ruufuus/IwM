{
 "cells": [
  {
   "cell_type": "markdown",
   "metadata": {},
   "source": [
    "IMPORTS"
   ]
  },
  {
   "cell_type": "code",
   "execution_count": 1,
   "metadata": {},
   "outputs": [],
   "source": [
    "import numpy as np"
   ]
  },
  {
   "cell_type": "code",
   "execution_count": 2,
   "metadata": {},
   "outputs": [],
   "source": [
    "ALPHA = 5\n",
    "DETECTORS = 100\n",
    "DETECTORS_RANGE = 180\n",
    "\n",
    "RADIUS = 90\n",
    "RANGE = 360"
   ]
  },
  {
   "cell_type": "markdown",
   "metadata": {},
   "source": [
    "algorytm Bresenhama"
   ]
  },
  {
   "cell_type": "code",
   "execution_count": 3,
   "metadata": {},
   "outputs": [],
   "source": [
    "def bresenhamLine(x1, y1, x2, y2):\n",
    "    d,dx,dy,ai,bi,xi,yi = (0,)*7\n",
    "    x,y = x1,y1\n",
    "    \n",
    "    coords = [(x1,y1)]\n",
    "    \n",
    "    if (x1 < x2):\n",
    "        xi =1\n",
    "        dx = x2 - x1\n",
    "    else:\n",
    "        xi = -1\n",
    "        dx = x1 - x2\n",
    "    \n",
    "    if (y1 < y2):\n",
    "        yi = 1\n",
    "        dy = y2 - y1\n",
    "    else:\n",
    "        yi = -1\n",
    "        dy = y1 - y2\n",
    "    \n",
    "    if (dx > dy):\n",
    "        ai = (dy - dx) * 2\n",
    "        bi = dy * 2\n",
    "        d = bi - dx\n",
    "        \n",
    "        while (x != x2):\n",
    "            if (d >= 0):\n",
    "                x += xi\n",
    "                y += yi\n",
    "                d += ai\n",
    "            else:\n",
    "                d += bi\n",
    "                x += xi\n",
    "            coords.append((x, y))\n",
    "    else:\n",
    "        ai = (dx - dy) * 2\n",
    "        bi = dx * 2\n",
    "        d = bi - dy\n",
    "        \n",
    "        while (y != y2):\n",
    "            if (d >=0):\n",
    "                x += xi\n",
    "                y += yi\n",
    "                d += ai\n",
    "            else:\n",
    "                d += bi\n",
    "                y += yi\n",
    "            coords.append((x, y))\n",
    "    coords.append((x2,y2))\n",
    "    return coords"
   ]
  },
  {
   "cell_type": "code",
   "execution_count": 5,
   "metadata": {},
   "outputs": [
    {
     "name": "stdout",
     "output_type": "stream",
     "text": [
      "[(0, 0), (1, 0), (2, 0), (3, 0), (4, 0), (5, 0), (6, 0), (7, 0), (8, 0), (9, 0), (10, 0), (11, 0), (12, 0), (13, 0), (14, 0), (15, 1), (16, 1), (17, 1), (18, 1), (19, 1), (20, 1), (21, 1), (22, 1), (23, 1), (24, 1), (25, 1), (26, 1), (27, 1), (28, 1), (29, 1), (30, 1), (30, 1)]\n"
     ]
    }
   ],
   "source": [
    "print(bresenhamLine(0,0,30,1))"
   ]
  },
  {
   "cell_type": "code",
   "execution_count": 8,
   "metadata": {},
   "outputs": [],
   "source": [
    "def getEmiterPosition(r, alpha):\n",
    "    x = r * np.cos( np.radians(alpha))\n",
    "    y = r * np.sin( np.radians(alpha))\n",
    "    return (int(x),int(y))"
   ]
  },
  {
   "cell_type": "code",
   "execution_count": 9,
   "metadata": {},
   "outputs": [],
   "source": [
    "def getSensorPosition(r, alpha, fi, i, numberOfEmiters):\n",
    "    x = r * np.cos (np.radians(alpha) + np.pi - np.radians(fi)/2 + i * ( np.radians(fi) / (numberOfEmiters-1) ))\n",
    "    y = r * np.sin (np.radians(alpha) + np.pi - np.radians(fi)/2 + i * ( np.radians(fi) / (numberOfEmiters-1) ))\n",
    "    return (int(x),int(y))\n",
    "\n",
    "def getAllSensors(r, alpha, fi, numberOfEmiters):\n",
    "    sensors = []\n",
    "    for i in range(numberOfEmiters):\n",
    "        sensors.append(getSensorPosition(r, alpha, fi, i, numberOfEmiters))\n",
    "    return sensors"
   ]
  },
  {
   "cell_type": "code",
   "execution_count": null,
   "metadata": {},
   "outputs": [],
   "source": []
  }
 ],
 "metadata": {
  "kernelspec": {
   "display_name": "Python 3",
   "language": "python",
   "name": "python3"
  },
  "language_info": {
   "codemirror_mode": {
    "name": "ipython",
    "version": 3
   },
   "file_extension": ".py",
   "mimetype": "text/x-python",
   "name": "python",
   "nbconvert_exporter": "python",
   "pygments_lexer": "ipython3",
   "version": "3.7.4"
  }
 },
 "nbformat": 4,
 "nbformat_minor": 4
}
